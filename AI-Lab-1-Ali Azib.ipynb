{
 "cells": [
  {
   "cell_type": "markdown",
   "id": "8586eb85-0746-4d47-a235-55de4662aedc",
   "metadata": {},
   "source": [
    "# Task"
   ]
  },
  {
   "cell_type": "code",
   "execution_count": 1,
   "id": "1cf7e347-a8e5-477b-a86b-28ec04411cb2",
   "metadata": {},
   "outputs": [
    {
     "name": "stdout",
     "output_type": "stream",
     "text": [
      "Hello World\n"
     ]
    }
   ],
   "source": [
    "print(\"Hello World\")"
   ]
  },
  {
   "cell_type": "markdown",
   "id": "dc9283bc-dd72-4408-9bf4-b8cd2bded7df",
   "metadata": {},
   "source": [
    "# Task 1 - variable and data type"
   ]
  },
  {
   "cell_type": "code",
   "execution_count": 2,
   "id": "3c34ec83-fba4-4e56-bc9f-766539d2f584",
   "metadata": {},
   "outputs": [
    {
     "name": "stdout",
     "output_type": "stream",
     "text": [
      "Name: Ali\n",
      "Roll No: 23\n",
      "CGPA: 3.4\n",
      "Name: Sara\n",
      "Roll No: 17\n",
      "CGPA: 3.9\n"
     ]
    }
   ],
   "source": [
    "# Store student info\n",
    "name = \"Ali\"\n",
    "roll_no = 23\n",
    "cgpa = 3.4\n",
    "\n",
    "print(\"Name:\", name)\n",
    "print(\"Roll No:\", roll_no)\n",
    "print(\"CGPA:\", cgpa)\n",
    "\n",
    "# Store student info (example with custom values)\n",
    "name = \"Sara\"\n",
    "roll_no = 17\n",
    "cgpa = 3.9\n",
    "\n",
    "print(\"Name:\", name)\n",
    "print(\"Roll No:\", roll_no)\n",
    "print(\"CGPA:\", cgpa)\n"
   ]
  },
  {
   "cell_type": "markdown",
   "id": "24d9800f-b9eb-4d6d-8b88-36cb85d79aac",
   "metadata": {},
   "source": [
    "# Task 2 - Loop"
   ]
  },
  {
   "cell_type": "code",
   "execution_count": 3,
   "id": "a675cce4-4ebd-4cf7-ac9a-7a319081eae2",
   "metadata": {},
   "outputs": [
    {
     "name": "stdout",
     "output_type": "stream",
     "text": [
      "1\n",
      "2\n",
      "3\n",
      "4\n",
      "5\n",
      "6\n",
      "7\n",
      "8\n",
      "9\n",
      "10\n",
      "2\n",
      "4\n",
      "6\n",
      "8\n",
      "10\n"
     ]
    }
   ],
   "source": [
    "# Print numbers 1 to 10\n",
    "for i in range(1, 11):\n",
    "    print(i)\n",
    "# Print even numbers from 1 to 10\n",
    "for i in range(1, 11):\n",
    "    if i % 2 == 0:\n",
    "        print(i)\n"
   ]
  },
  {
   "cell_type": "markdown",
   "id": "cd375790-d6fa-4182-be9e-e05b24743897",
   "metadata": {},
   "source": [
    "# Task 3 - Function"
   ]
  },
  {
   "cell_type": "code",
   "execution_count": 4,
   "id": "601cfc81-0289-4dc1-a439-93260de601ac",
   "metadata": {},
   "outputs": [
    {
     "name": "stdout",
     "output_type": "stream",
     "text": [
      "Factorial of 5: 120\n"
     ]
    }
   ],
   "source": [
    "# Function to calculate factorial\n",
    "def factorial(n):\n",
    "    result = 1\n",
    "    for i in range(1, n + 1):\n",
    "        result *= i\n",
    "    return result\n",
    "\n",
    "print(\"Factorial of 5:\", factorial(5))\n"
   ]
  },
  {
   "cell_type": "markdown",
   "id": "f5dabe89-071b-4eed-874c-760110990416",
   "metadata": {},
   "source": [
    "# Task 4"
   ]
  },
  {
   "cell_type": "code",
   "execution_count": 5,
   "id": "a65a2dff-f1d4-4ccb-b1de-50c5b5b6f8c1",
   "metadata": {},
   "outputs": [
    {
     "name": "stdin",
     "output_type": "stream",
     "text": [
      "Enter marks:  50\n"
     ]
    },
    {
     "name": "stdout",
     "output_type": "stream",
     "text": [
      "Pass ✅\n"
     ]
    },
    {
     "name": "stdin",
     "output_type": "stream",
     "text": [
      "Enter marks:  60\n"
     ]
    },
    {
     "name": "stdout",
     "output_type": "stream",
     "text": [
      "Grade B 👍\n"
     ]
    }
   ],
   "source": [
    "marks = int(input(\"Enter marks: \"))\n",
    "\n",
    "if marks >= 50:\n",
    "    print(\"Pass ✅\")\n",
    "else:\n",
    "    print(\"Fail ❌\")\n",
    "marks = int(input(\"Enter marks: \"))\n",
    "\n",
    "if marks >= 80:\n",
    "    print(\"Grade A 🎉\")\n",
    "elif marks >= 60:\n",
    "    print(\"Grade B 👍\")\n",
    "elif marks >= 50:\n",
    "    print(\"Grade C 🙂\")\n",
    "else:\n",
    "    print(\"Fail ❌\")\n"
   ]
  },
  {
   "cell_type": "code",
   "execution_count": null,
   "id": "1bb2098d-08c2-49c8-91ee-c407ae2e3857",
   "metadata": {},
   "outputs": [],
   "source": []
  }
 ],
 "metadata": {
  "kernelspec": {
   "display_name": "Python 3 (ipykernel)",
   "language": "python",
   "name": "python3"
  },
  "language_info": {
   "codemirror_mode": {
    "name": "ipython",
    "version": 3
   },
   "file_extension": ".py",
   "mimetype": "text/x-python",
   "name": "python",
   "nbconvert_exporter": "python",
   "pygments_lexer": "ipython3",
   "version": "3.13.5"
  }
 },
 "nbformat": 4,
 "nbformat_minor": 5
}
