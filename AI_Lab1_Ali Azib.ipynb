{
 "cells": [
  {
   "cell_type": "markdown",
   "id": "5f9814f1-bf10-43bb-9406-bf24ca8cb99e",
   "metadata": {},
   "source": [
    "# Print Hello World \n",
    "\n",
    "The following code prints **Hello AI Word** on the screen.\n",
    "\n",
    "```python\n",
    "print(\"Hello AI Word\")"
   ]
  },
  {
   "cell_type": "code",
   "execution_count": 6,
   "id": "64e3b758-015f-4bea-a4cd-b9db7352d97c",
   "metadata": {},
   "outputs": [
    {
     "name": "stdout",
     "output_type": "stream",
     "text": [
      "Hello AI Word\n"
     ]
    }
   ],
   "source": [
    "print(\"Hello AI Word\")"
   ]
  },
  {
   "cell_type": "markdown",
   "id": "b82f517b-9f3e-487c-abd6-b5ef7bf55570",
   "metadata": {},
   "source": [
    "# Store Student Information in Python\n",
    "\n",
    "This Program stores a student's **name**, **roll number**, and **CGPA** in variables.  \n",
    "After that it prints them using the `print()` function.\n",
    "\n"
   ]
  },
  {
   "cell_type": "code",
   "execution_count": 1,
   "id": "cb06552a-1ad3-40b7-8fd5-aafc18950ae7",
   "metadata": {},
   "outputs": [
    {
     "name": "stdout",
     "output_type": "stream",
     "text": [
      " name :  Ali\n",
      " roll_no :  17\n",
      " cgpa :  3.47\n"
     ]
    }
   ],
   "source": [
    "name =\"Ali\"\n",
    "roll_no = 17\n",
    "cgpa = 3.47\n",
    "\n",
    "print(\" name : \" , name)\n",
    "print(\" roll_no : \" , roll_no)\n",
    "print(\" cgpa : \" , cgpa)"
   ]
  },
  {
   "cell_type": "markdown",
   "id": "b1fec8f4-3f55-47c8-a977-7a35f46e5775",
   "metadata": {},
   "source": [
    "# Printing Numbers with Python Loops\n",
    "\n",
    "We’ll write a for loop to print the numbers **1 to 20**.\n",
    "After that, we’ll adjust the code to display only the **even numbers**."
   ]
  },
  {
   "cell_type": "code",
   "execution_count": 2,
   "id": "65cd2f8a-f81f-47bd-a443-a310a4f299e1",
   "metadata": {},
   "outputs": [
    {
     "name": "stdout",
     "output_type": "stream",
     "text": [
      "1\n",
      "2\n",
      "3\n",
      "4\n",
      "5\n",
      "6\n",
      "7\n",
      "8\n",
      "9\n",
      "10\n",
      "11\n",
      "12\n",
      "13\n",
      "14\n",
      "15\n",
      "16\n",
      "17\n",
      "18\n",
      "19\n",
      "20\n",
      "\n",
      "2\n",
      "4\n",
      "6\n",
      "8\n",
      "10\n",
      "12\n",
      "14\n"
     ]
    }
   ],
   "source": [
    "for i in range( 1 ,21):\n",
    "    print(i)\n",
    "print()\n",
    "\n",
    "#after modify code   \n",
    "for i in range( 1 ,15):\n",
    "    if i % 2==0:\n",
    "        print(i)\n"
   ]
  },
  {
   "cell_type": "markdown",
   "id": "cf3302cc-7032-448f-88d9-4edd83b549eb",
   "metadata": {},
   "source": [
    "# Factorial Program in Python\n",
    "\n",
    "The factorial of a number n (denoted as n!) is the multiplication of all positive integers from n down to 1.\n",
    "For example:\n",
    "\n",
    "5! = 5 × 4 × 3 × 2 × 1 = 120\n",
    "\n",
    "In Python, we can find the factorial using a for loop."
   ]
  },
  {
   "cell_type": "code",
   "execution_count": 5,
   "id": "989547d1-dda8-453d-bcb0-af14fd07c031",
   "metadata": {},
   "outputs": [
    {
     "name": "stdout",
     "output_type": "stream",
     "text": [
      "The Factorial of 5 is ->  120\n"
     ]
    },
    {
     "name": "stdin",
     "output_type": "stream",
     "text": [
      "Enter Number For Factorial 5\n"
     ]
    },
    {
     "name": "stdout",
     "output_type": "stream",
     "text": [
      "120\n"
     ]
    }
   ],
   "source": [
    "def factorial(n):\n",
    "    f = 1\n",
    "    for val in range(1 , n+1):\n",
    "        f *= val\n",
    "\n",
    "    return f\n",
    "\n",
    "\n",
    "fact=factorial(5)\n",
    "print(\"The Factorial of 5 is -> \", fact)\n",
    "\n",
    "def factorial(n):\n",
    "    f = 1\n",
    "    for val in range(1 , n+1):\n",
    "        f *= val\n",
    "\n",
    "    return f\n",
    "\n",
    "x=int(input(\"Enter Number For Factorial\"))\n",
    "fact=factorial(x)\n",
    "print(fact)"
   ]
  },
  {
   "cell_type": "markdown",
   "id": "1673b6ef-7826-4ee0-8208-289bab422bf1",
   "metadata": {},
   "source": []
  },
  {
   "cell_type": "code",
   "execution_count": null,
   "id": "c7cb019e-8ab9-4acb-804c-25ded67b4b4c",
   "metadata": {},
   "outputs": [],
   "source": [
    "marks=int(input(\"Enter your marks ->  \"))\n",
    "\n",
    "if marks >= 80 :\n",
    "    print(\"Grade A\")\n",
    "elif marks >= 60:\n",
    "    print(\"Grade B\")\n",
    "elif marks>= 50:\n",
    "    print(\"Grade c\")\n",
    "else:\n",
    "    print(\"Fail\")"
   ]
  }
 ],
 "metadata": {
  "kernelspec": {
   "display_name": "Python [conda env:base] *",
   "language": "python",
   "name": "conda-base-py"
  },
  "language_info": {
   "codemirror_mode": {
    "name": "ipython",
    "version": 3
   },
   "file_extension": ".py",
   "mimetype": "text/x-python",
   "name": "python",
   "nbconvert_exporter": "python",
   "pygments_lexer": "ipython3",
   "version": "3.13.5"
  }
 },
 "nbformat": 4,
 "nbformat_minor": 5
}
