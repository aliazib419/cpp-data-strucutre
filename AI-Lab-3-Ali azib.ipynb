{
 "cells": [
  {
   "cell_type": "markdown",
   "id": "b0b2c42f-1068-4028-849e-4edf9ff77c58",
   "metadata": {},
   "source": [
    "# Task 1 students marks and grade"
   ]
  },
  {
   "cell_type": "code",
   "execution_count": 8,
   "id": "19f61373-fb72-4e4e-99e3-2b96be74e8f1",
   "metadata": {},
   "outputs": [
    {
     "name": "stdout",
     "output_type": "stream",
     "text": [
      "Ali: 85 -> Grade: A\n",
      "Sara: 67 -> Grade: B\n",
      "Bilal: 45 -> Grade: Fail\n",
      "\n",
      "Class Average: 65.67\n"
     ]
    }
   ],
   "source": [
    "# --- Task 1: Student Marks & Grades ---\n",
    "\n",
    "# Step 1: Create a dictionary with student names and their marks\n",
    "students = {\"Ali\": 85, \"Sara\": 67, \"Bilal\": 45}\n",
    "\n",
    "# Step 2: Define a function to check grades for each student\n",
    "def print_results(data):\n",
    "    \"\"\"\n",
    "    This function takes a dictionary of student:marks\n",
    "    and prints each student's marks with grade.\n",
    "    \"\"\"\n",
    "    total_marks = 0\n",
    "    num_students = len(data)\n",
    "\n",
    "    # Loop through dictionary using items() to get (name, marks)\n",
    "    for name, marks in data.items():\n",
    "        # Apply grading rules using if/elif/else\n",
    "        if marks >= 80:\n",
    "            grade = \"A\"\n",
    "        elif marks >= 60:\n",
    "            grade = \"B\"\n",
    "        elif marks >= 50:\n",
    "            grade = \"C\"\n",
    "        else:\n",
    "            grade = \"Fail\"\n",
    "\n",
    "        # Print result for each student\n",
    "        print(f\"{name}: {marks} -> Grade: {grade}\")\n",
    "        \n",
    "        # Add marks to total_marks for average calculation\n",
    "        total_marks += marks\n",
    "\n",
    "    # Calculate and print class average\n",
    "    class_average = total_marks / num_students\n",
    "    print(f\"\\nClass Average: {class_average:.2f}\")\n",
    "\n",
    "# Step 3: Call the function\n",
    "print_results(students)"
   ]
  },
  {
   "cell_type": "markdown",
   "id": "927f20da-98a1-4723-bab7-6187b47e3e53",
   "metadata": {},
   "source": [
    "# Task 2 word counter"
   ]
  },
  {
   "cell_type": "code",
   "execution_count": 11,
   "id": "ab3b5e20-873c-4ac4-ba63-69c85bf1da85",
   "metadata": {},
   "outputs": [
    {
     "name": "stdin",
     "output_type": "stream",
     "text": [
      "Enter a sentence:  \"This is a test. This is only a test.\"\n"
     ]
    },
    {
     "name": "stdout",
     "output_type": "stream",
     "text": [
      "Word counts: {'\"this': 1, 'is': 2, 'a': 2, 'test.': 1, 'this': 1, 'only': 1, 'test.\"': 1}\n",
      "The most frequent word is: 'is'\n"
     ]
    }
   ],
   "source": [
    "# --- Task 2: Word Counter ---\n",
    "\n",
    "# Step 1: Take input sentence from user\n",
    "sentence = input(\"Enter a sentence: \")\n",
    "\n",
    "# Step 2: Split sentence into list of words\n",
    "words = sentence.split()\n",
    "\n",
    "# Step 3: Create an empty dictionary for counts\n",
    "counter = {}\n",
    "\n",
    "# Step 4: Loop through words\n",
    "for w in words:\n",
    "    w = w.lower() # Convert to lowercase for consistency\n",
    "    if w in counter:\n",
    "        # If word already exists, increment count\n",
    "        counter[w] += 1\n",
    "    else:\n",
    "        # If word appears first time, set count = 1\n",
    "        counter[w] = 1\n",
    "\n",
    "# Step 5: Print dictionary of word counts\n",
    "print(\"Word counts:\", counter)\n",
    "\n",
    "# Practice Variation: Print the most frequent word from the dictionary.\n",
    "if counter:\n",
    "    most_frequent_word = max(counter, key=counter.get)\n",
    "    print(f\"The most frequent word is: '{most_frequent_word}'\")\n",
    "else:\n",
    "    print(\"No words were entered.\")"
   ]
  },
  {
   "cell_type": "markdown",
   "id": "9ea690c7-4023-4e44-8302-bf3889ad3d62",
   "metadata": {},
   "source": [
    "# Task 3 mini chat"
   ]
  },
  {
   "cell_type": "code",
   "execution_count": 12,
   "id": "7a98a856-06e1-41f0-9e89-d325b85bb38f",
   "metadata": {},
   "outputs": [
    {
     "name": "stdin",
     "output_type": "stream",
     "text": [
      "You:  hi\n"
     ]
    },
    {
     "name": "stdout",
     "output_type": "stream",
     "text": [
      "Bot: Hello! How can I help you?\n"
     ]
    }
   ],
   "source": [
    "# --- Task 3: Simple Chatbot ---\n",
    "\n",
    "# Step 1: Create a dictionary of possible responses\n",
    "responses = {\n",
    "    \"hi\": \"Hello! How can I help you?\",\n",
    "    \"bye\": \"Goodbye! Have a nice day!\",\n",
    "    \"how are you\": \"I'm doing great, thanks!\",\n",
    "    \"name\": \"I don't have a name. I'm a simple chatbot.\",\n",
    "    \"help\": \"You can ask me about basic greetings or how I'm doing.\",\n",
    "    \"weather\": \"I'm not connected to the internet, so I can't tell you the weather.\"\n",
    "}\n",
    "\n",
    "# Step 2: Take input from the user\n",
    "user_input = input(\"You: \").lower()  # lowercase for matching\n",
    "\n",
    "# Step 3: Match user input with dictionary keys\n",
    "if user_input in responses:\n",
    "    # If user input exists, print the response\n",
    "    print(\"Bot:\", responses[user_input])\n",
    "else:\n",
    "    # If input not found, show a default response\n",
    "    print(\"Bot: Sorry, I don't understand.\")"
   ]
  },
  {
   "cell_type": "markdown",
   "id": "2f50b358-812e-408c-a96d-fa81de084e1a",
   "metadata": {},
   "source": [
    "# Task 4 movie recomendation"
   ]
  },
  {
   "cell_type": "code",
   "execution_count": 13,
   "id": "e07b1fcd-095c-41a1-b7d0-c1895c8021d1",
   "metadata": {},
   "outputs": [
    {
     "name": "stdin",
     "output_type": "stream",
     "text": [
      "Enter genre (action/comedy/sci-fi/horror):  action\n"
     ]
    },
    {
     "name": "stdout",
     "output_type": "stream",
     "text": [
      "Watch: Batman\n"
     ]
    }
   ],
   "source": [
    "# --- Task 4: Movie Recommender ---\n",
    "\n",
    "import random  # Import random library for random.choice()\n",
    "\n",
    "# Step 1: Create a dictionary of genres and movie lists\n",
    "movies = {\n",
    "    \"action\": [\"Avengers\", \"Batman\", \"Spiderman\"],\n",
    "    \"comedy\": [\"Mr. Bean\", \"Home Alone\", \"The Mask\"],\n",
    "    \"sci-fi\": [\"Interstellar\", \"Inception\", \"The Matrix\"],\n",
    "    \"horror\": [\"Hereditary\", \"Get Out\"]  # Added genre for practice variation\n",
    "}\n",
    "\n",
    "# Step 2: Ask the user for their preferred genre\n",
    "genre = input(\"Enter genre (action/comedy/sci-fi/horror): \").lower()\n",
    "\n",
    "# Step 3: Check if the genre exists in the dictionary\n",
    "if genre in movies:\n",
    "    # Suggest a random movie from the selected genre\n",
    "    print(\"Watch:\", random.choice(movies[genre]))\n",
    "else:\n",
    "    # Handle invalid input\n",
    "    print(\"Sorry, try action, comedy, sci-fi, or horror.\")"
   ]
  },
  {
   "cell_type": "markdown",
   "id": "d48675e9-67fc-411a-adf3-85f61cf19866",
   "metadata": {},
   "source": [
    "# Task 5 weather based descion"
   ]
  },
  {
   "cell_type": "code",
   "execution_count": 14,
   "id": "d0d04e1b-5256-478a-a105-59d5efe9a04b",
   "metadata": {},
   "outputs": [
    {
     "name": "stdin",
     "output_type": "stream",
     "text": [
      "What's the weather like today? (sunny/rainy/cold/windy):  sunny\n"
     ]
    },
    {
     "name": "stdout",
     "output_type": "stream",
     "text": [
      "Go outside.\n"
     ]
    }
   ],
   "source": [
    "# --- Task 5: Weather Decision ---\n",
    "\n",
    "# Step 1: Define a function with weather as input\n",
    "def suggest_activity(weather):\n",
    "    # Normalize input by converting to lowercase\n",
    "    weather = weather.lower()\n",
    "\n",
    "    if weather == \"sunny\":\n",
    "        return \"Go outside.\"\n",
    "    elif weather == \"rainy\":\n",
    "        return \"Take an umbrella.\"\n",
    "    elif weather == \"cold\":\n",
    "        return \"Stay warm at home.\"\n",
    "    elif weather == \"windy\":\n",
    "        return \"Fly a kite.\"\n",
    "    else:\n",
    "        return \"Unknown weather condition.\"\n",
    "\n",
    "# Step 2: Example test (now using user input for practice variation)\n",
    "# Practice Variation: Take user input for weather instead of hardcoding.\n",
    "user_weather = input(\"What's the weather like today? (sunny/rainy/cold/windy): \")\n",
    "print(suggest_activity(user_weather))"
   ]
  },
  {
   "cell_type": "markdown",
   "id": "96339b9d-59fb-40fa-8d02-52d5d20dd13d",
   "metadata": {},
   "source": [
    "# student report system"
   ]
  },
  {
   "cell_type": "code",
   "execution_count": 15,
   "id": "0c6b7b54-250b-42fb-ab58-9b92e178ffd5",
   "metadata": {},
   "outputs": [
    {
     "name": "stdout",
     "output_type": "stream",
     "text": [
      "Ali: 85 -> Grade: A\n",
      "Sara: 67 -> Grade: B\n",
      "Bilal: 45 -> Grade: Fail\n",
      "\n",
      "Class Average: 65.67\n"
     ]
    }
   ],
   "source": [
    "# --- Task 1: Student Marks & Grades ---\n",
    "\n",
    "# Step 1: Create a dictionary with student names and their marks\n",
    "students = {\"Ali\": 85, \"Sara\": 67, \"Bilal\": 45}\n",
    "\n",
    "# Step 2: Define a function to check grades for each student\n",
    "def print_results(data):\n",
    "    \"\"\"\n",
    "    This function takes a dictionary of student:marks\n",
    "    and prints each student's marks with grade, as well as the class average.\n",
    "    \"\"\"\n",
    "    # Practice Variation: Initialize a variable to store the total marks for the class average\n",
    "    total_marks = 0\n",
    "\n",
    "    # Loop through the dictionary using items() to get (name, marks)\n",
    "    for name, marks in data.items():\n",
    "        # Apply grading rules using if/elif/else\n",
    "        if marks >= 80:\n",
    "            grade = \"A\"\n",
    "        elif marks >= 60:\n",
    "            grade = \"B\"\n",
    "        elif marks >= 50:\n",
    "            grade = \"C\"\n",
    "        else:\n",
    "            grade = \"Fail\"\n",
    "\n",
    "        # Print the result for each student\n",
    "        print(f\"{name}: {marks} -> Grade: {grade}\")\n",
    "        \n",
    "        # Add marks to the total for the class average calculation\n",
    "        total_marks += marks\n",
    "\n",
    "    # Practice Variation: Add code to also print the class average at the end.\n",
    "    num_students = len(data)\n",
    "    class_average = total_marks / num_students\n",
    "    print(f\"\\nClass Average: {class_average:.2f}\")\n",
    "\n",
    "# Step 3: Call the function\n",
    "print_results(students)"
   ]
  },
  {
   "cell_type": "markdown",
   "id": "8e50f531-75da-474f-9048-8ca6f75a43b7",
   "metadata": {},
   "source": [
    "# make a list"
   ]
  },
  {
   "cell_type": "code",
   "execution_count": 25,
   "id": "203baa39-d939-4bbe-b804-9ea32b24f34b",
   "metadata": {},
   "outputs": [
    {
     "name": "stdout",
     "output_type": "stream",
     "text": [
      "['Ali', 'azib', 'azeem']\n"
     ]
    }
   ],
   "source": [
    "students = [\"Ali\", \"azib\", \"azeem\"]\n",
    "print(students)"
   ]
  },
  {
   "cell_type": "code",
   "execution_count": null,
   "id": "301027b2-506b-4d48-a4b6-ce9be62b84ba",
   "metadata": {},
   "outputs": [],
   "source": []
  }
 ],
 "metadata": {
  "kernelspec": {
   "display_name": "Python 3 (ipykernel)",
   "language": "python",
   "name": "python3"
  },
  "language_info": {
   "codemirror_mode": {
    "name": "ipython",
    "version": 3
   },
   "file_extension": ".py",
   "mimetype": "text/x-python",
   "name": "python",
   "nbconvert_exporter": "python",
   "pygments_lexer": "ipython3",
   "version": "3.13.5"
  }
 },
 "nbformat": 4,
 "nbformat_minor": 5
}
